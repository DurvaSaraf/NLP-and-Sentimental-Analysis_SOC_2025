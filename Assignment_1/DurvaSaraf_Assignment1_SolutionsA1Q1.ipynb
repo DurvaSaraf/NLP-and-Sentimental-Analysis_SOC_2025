{
  "nbformat": 4,
  "nbformat_minor": 0,
  "metadata": {
    "colab": {
      "provenance": []
    },
    "kernelspec": {
      "name": "python3",
      "display_name": "Python 3"
    },
    "language_info": {
      "name": "python"
    }
  },
  "cells": [
    {
      "cell_type": "code",
      "source": [
        "\n",
        "import spacy\n",
        "nlp = spacy.load(\"en_core_web_sm\")\n",
        "doc = nlp(\"As the evening settled in, the world seemed to slow down. The golden hue of the setting sun spilled across the rooftops, painting everything in a warm glow. Leaves rustled softly in the breeze, and the faint sound of a flute echoed from a nearby balcony, blending into the quiet hum of life winding down. Children’s laughter faded into the distance, replaced by the occasional bark of a dog or the clang of utensils from kitchens preparing dinner. There was a sense of calm, of a day well-lived and a night waiting with promises of dreams, stories, and stillness.\")"
      ],
      "metadata": {
        "id": "5QOhVcswzmEZ"
      },
      "execution_count": 9,
      "outputs": []
    },
    {
      "cell_type": "code",
      "source": [
        " tokens = [token.text for token in doc]\n",
        " print(tokens)"
      ],
      "metadata": {
        "colab": {
          "base_uri": "https://localhost:8080/"
        },
        "collapsed": true,
        "id": "N5hzoZbFw8_J",
        "outputId": "7ac693b9-77aa-4ff7-d37a-320eb7400a92"
      },
      "execution_count": 10,
      "outputs": [
        {
          "output_type": "stream",
          "name": "stdout",
          "text": [
            "['As', 'the', 'evening', 'settled', 'in', ',', 'the', 'world', 'seemed', 'to', 'slow', 'down', '.', 'The', 'golden', 'hue', 'of', 'the', 'setting', 'sun', 'spilled', 'across', 'the', 'rooftops', ',', 'painting', 'everything', 'in', 'a', 'warm', 'glow', '.', 'Leaves', 'rustled', 'softly', 'in', 'the', 'breeze', ',', 'and', 'the', 'faint', 'sound', 'of', 'a', 'flute', 'echoed', 'from', 'a', 'nearby', 'balcony', ',', 'blending', 'into', 'the', 'quiet', 'hum', 'of', 'life', 'winding', 'down', '.', 'Children', '’s', 'laughter', 'faded', 'into', 'the', 'distance', ',', 'replaced', 'by', 'the', 'occasional', 'bark', 'of', 'a', 'dog', 'or', 'the', 'clang', 'of', 'utensils', 'from', 'kitchens', 'preparing', 'dinner', '.', 'There', 'was', 'a', 'sense', 'of', 'calm', ',', 'of', 'a', 'day', 'well', '-', 'lived', 'and', 'a', 'night', 'waiting', 'with', 'promises', 'of', 'dreams', ',', 'stories', ',', 'and', 'stillness', '.']\n"
          ]
        }
      ]
    },
    {
      "cell_type": "code",
      "source": [
        "filtered_tokens = [token for token in doc if not token.is_stop]\n",
        "print(filtered_tokens)"
      ],
      "metadata": {
        "colab": {
          "base_uri": "https://localhost:8080/"
        },
        "collapsed": true,
        "id": "SGApvDLcyIau",
        "outputId": "0d18101a-69ae-4cd4-939a-1e8e3766c2df"
      },
      "execution_count": 11,
      "outputs": [
        {
          "output_type": "stream",
          "name": "stdout",
          "text": [
            "[evening, settled, ,, world, slow, ., golden, hue, setting, sun, spilled, rooftops, ,, painting, warm, glow, ., Leaves, rustled, softly, breeze, ,, faint, sound, flute, echoed, nearby, balcony, ,, blending, quiet, hum, life, winding, ., Children, laughter, faded, distance, ,, replaced, occasional, bark, dog, clang, utensils, kitchens, preparing, dinner, ., sense, calm, ,, day, -, lived, night, waiting, promises, dreams, ,, stories, ,, stillness, .]\n"
          ]
        }
      ]
    },
    {
      "cell_type": "code",
      "source": [
        "import nltk\n",
        "from nltk.stem import PorterStemmer\n",
        "from nltk.tokenize import word_tokenize\n",
        "from nltk.stem import WordNetLemmatizer\n",
        "nltk.download('wordnet')\n",
        "wnl = WordNetLemmatizer()\n",
        "porter_stemmer = PorterStemmer()\n"
      ],
      "metadata": {
        "colab": {
          "base_uri": "https://localhost:8080/"
        },
        "id": "2QNYLmRl1O5H",
        "outputId": "94a7da48-8156-4557-fb6f-082887500984"
      },
      "execution_count": 12,
      "outputs": [
        {
          "output_type": "stream",
          "name": "stderr",
          "text": [
            "[nltk_data] Downloading package wordnet to /root/nltk_data...\n",
            "[nltk_data]   Package wordnet is already up-to-date!\n"
          ]
        }
      ]
    },
    {
      "cell_type": "code",
      "source": [
        "for w in tokens:\n",
        "  stemming_lemma = [w,\":\", porter_stemmer.stem(w), \":\", wnl.lemmatize(w)]\n",
        "  print(stemming_lemma)\n"
      ],
      "metadata": {
        "colab": {
          "base_uri": "https://localhost:8080/"
        },
        "collapsed": true,
        "id": "pYcz2h5CymY6",
        "outputId": "3fea35e1-31dc-4606-e6fa-3e45de981e4a"
      },
      "execution_count": 13,
      "outputs": [
        {
          "output_type": "stream",
          "name": "stdout",
          "text": [
            "['As', ':', 'as', ':', 'As']\n",
            "['the', ':', 'the', ':', 'the']\n",
            "['evening', ':', 'even', ':', 'evening']\n",
            "['settled', ':', 'settl', ':', 'settled']\n",
            "['in', ':', 'in', ':', 'in']\n",
            "[',', ':', ',', ':', ',']\n",
            "['the', ':', 'the', ':', 'the']\n",
            "['world', ':', 'world', ':', 'world']\n",
            "['seemed', ':', 'seem', ':', 'seemed']\n",
            "['to', ':', 'to', ':', 'to']\n",
            "['slow', ':', 'slow', ':', 'slow']\n",
            "['down', ':', 'down', ':', 'down']\n",
            "['.', ':', '.', ':', '.']\n",
            "['The', ':', 'the', ':', 'The']\n",
            "['golden', ':', 'golden', ':', 'golden']\n",
            "['hue', ':', 'hue', ':', 'hue']\n",
            "['of', ':', 'of', ':', 'of']\n",
            "['the', ':', 'the', ':', 'the']\n",
            "['setting', ':', 'set', ':', 'setting']\n",
            "['sun', ':', 'sun', ':', 'sun']\n",
            "['spilled', ':', 'spill', ':', 'spilled']\n",
            "['across', ':', 'across', ':', 'across']\n",
            "['the', ':', 'the', ':', 'the']\n",
            "['rooftops', ':', 'rooftop', ':', 'rooftop']\n",
            "[',', ':', ',', ':', ',']\n",
            "['painting', ':', 'paint', ':', 'painting']\n",
            "['everything', ':', 'everyth', ':', 'everything']\n",
            "['in', ':', 'in', ':', 'in']\n",
            "['a', ':', 'a', ':', 'a']\n",
            "['warm', ':', 'warm', ':', 'warm']\n",
            "['glow', ':', 'glow', ':', 'glow']\n",
            "['.', ':', '.', ':', '.']\n",
            "['Leaves', ':', 'leav', ':', 'Leaves']\n",
            "['rustled', ':', 'rustl', ':', 'rustled']\n",
            "['softly', ':', 'softli', ':', 'softly']\n",
            "['in', ':', 'in', ':', 'in']\n",
            "['the', ':', 'the', ':', 'the']\n",
            "['breeze', ':', 'breez', ':', 'breeze']\n",
            "[',', ':', ',', ':', ',']\n",
            "['and', ':', 'and', ':', 'and']\n",
            "['the', ':', 'the', ':', 'the']\n",
            "['faint', ':', 'faint', ':', 'faint']\n",
            "['sound', ':', 'sound', ':', 'sound']\n",
            "['of', ':', 'of', ':', 'of']\n",
            "['a', ':', 'a', ':', 'a']\n",
            "['flute', ':', 'flute', ':', 'flute']\n",
            "['echoed', ':', 'echo', ':', 'echoed']\n",
            "['from', ':', 'from', ':', 'from']\n",
            "['a', ':', 'a', ':', 'a']\n",
            "['nearby', ':', 'nearbi', ':', 'nearby']\n",
            "['balcony', ':', 'balconi', ':', 'balcony']\n",
            "[',', ':', ',', ':', ',']\n",
            "['blending', ':', 'blend', ':', 'blending']\n",
            "['into', ':', 'into', ':', 'into']\n",
            "['the', ':', 'the', ':', 'the']\n",
            "['quiet', ':', 'quiet', ':', 'quiet']\n",
            "['hum', ':', 'hum', ':', 'hum']\n",
            "['of', ':', 'of', ':', 'of']\n",
            "['life', ':', 'life', ':', 'life']\n",
            "['winding', ':', 'wind', ':', 'winding']\n",
            "['down', ':', 'down', ':', 'down']\n",
            "['.', ':', '.', ':', '.']\n",
            "['Children', ':', 'children', ':', 'Children']\n",
            "['’s', ':', '’s', ':', '’s']\n",
            "['laughter', ':', 'laughter', ':', 'laughter']\n",
            "['faded', ':', 'fade', ':', 'faded']\n",
            "['into', ':', 'into', ':', 'into']\n",
            "['the', ':', 'the', ':', 'the']\n",
            "['distance', ':', 'distanc', ':', 'distance']\n",
            "[',', ':', ',', ':', ',']\n",
            "['replaced', ':', 'replac', ':', 'replaced']\n",
            "['by', ':', 'by', ':', 'by']\n",
            "['the', ':', 'the', ':', 'the']\n",
            "['occasional', ':', 'occasion', ':', 'occasional']\n",
            "['bark', ':', 'bark', ':', 'bark']\n",
            "['of', ':', 'of', ':', 'of']\n",
            "['a', ':', 'a', ':', 'a']\n",
            "['dog', ':', 'dog', ':', 'dog']\n",
            "['or', ':', 'or', ':', 'or']\n",
            "['the', ':', 'the', ':', 'the']\n",
            "['clang', ':', 'clang', ':', 'clang']\n",
            "['of', ':', 'of', ':', 'of']\n",
            "['utensils', ':', 'utensil', ':', 'utensil']\n",
            "['from', ':', 'from', ':', 'from']\n",
            "['kitchens', ':', 'kitchen', ':', 'kitchen']\n",
            "['preparing', ':', 'prepar', ':', 'preparing']\n",
            "['dinner', ':', 'dinner', ':', 'dinner']\n",
            "['.', ':', '.', ':', '.']\n",
            "['There', ':', 'there', ':', 'There']\n",
            "['was', ':', 'wa', ':', 'wa']\n",
            "['a', ':', 'a', ':', 'a']\n",
            "['sense', ':', 'sens', ':', 'sense']\n",
            "['of', ':', 'of', ':', 'of']\n",
            "['calm', ':', 'calm', ':', 'calm']\n",
            "[',', ':', ',', ':', ',']\n",
            "['of', ':', 'of', ':', 'of']\n",
            "['a', ':', 'a', ':', 'a']\n",
            "['day', ':', 'day', ':', 'day']\n",
            "['well', ':', 'well', ':', 'well']\n",
            "['-', ':', '-', ':', '-']\n",
            "['lived', ':', 'live', ':', 'lived']\n",
            "['and', ':', 'and', ':', 'and']\n",
            "['a', ':', 'a', ':', 'a']\n",
            "['night', ':', 'night', ':', 'night']\n",
            "['waiting', ':', 'wait', ':', 'waiting']\n",
            "['with', ':', 'with', ':', 'with']\n",
            "['promises', ':', 'promis', ':', 'promise']\n",
            "['of', ':', 'of', ':', 'of']\n",
            "['dreams', ':', 'dream', ':', 'dream']\n",
            "[',', ':', ',', ':', ',']\n",
            "['stories', ':', 'stori', ':', 'story']\n",
            "[',', ':', ',', ':', ',']\n",
            "['and', ':', 'and', ':', 'and']\n",
            "['stillness', ':', 'still', ':', 'stillness']\n",
            "['.', ':', '.', ':', '.']\n"
          ]
        }
      ]
    },
    {
      "cell_type": "code",
      "source": [
        "for token in doc :\n",
        "  print(token.text,token.pos_)"
      ],
      "metadata": {
        "colab": {
          "base_uri": "https://localhost:8080/"
        },
        "collapsed": true,
        "id": "ERtf66DGxfK2",
        "outputId": "4a6f6c82-3e46-444c-96d0-56e755a5d9ec"
      },
      "execution_count": 14,
      "outputs": [
        {
          "output_type": "stream",
          "name": "stdout",
          "text": [
            "As SCONJ\n",
            "the DET\n",
            "evening NOUN\n",
            "settled VERB\n",
            "in ADP\n",
            ", PUNCT\n",
            "the DET\n",
            "world NOUN\n",
            "seemed VERB\n",
            "to PART\n",
            "slow VERB\n",
            "down ADP\n",
            ". PUNCT\n",
            "The DET\n",
            "golden ADJ\n",
            "hue NOUN\n",
            "of ADP\n",
            "the DET\n",
            "setting VERB\n",
            "sun NOUN\n",
            "spilled VERB\n",
            "across ADP\n",
            "the DET\n",
            "rooftops NOUN\n",
            ", PUNCT\n",
            "painting VERB\n",
            "everything PRON\n",
            "in ADP\n",
            "a DET\n",
            "warm ADJ\n",
            "glow NOUN\n",
            ". PUNCT\n",
            "Leaves NOUN\n",
            "rustled VERB\n",
            "softly ADV\n",
            "in ADP\n",
            "the DET\n",
            "breeze NOUN\n",
            ", PUNCT\n",
            "and CCONJ\n",
            "the DET\n",
            "faint ADJ\n",
            "sound NOUN\n",
            "of ADP\n",
            "a DET\n",
            "flute NOUN\n",
            "echoed VERB\n",
            "from ADP\n",
            "a DET\n",
            "nearby ADJ\n",
            "balcony NOUN\n",
            ", PUNCT\n",
            "blending VERB\n",
            "into ADP\n",
            "the DET\n",
            "quiet ADJ\n",
            "hum NOUN\n",
            "of ADP\n",
            "life NOUN\n",
            "winding VERB\n",
            "down ADP\n",
            ". PUNCT\n",
            "Children NOUN\n",
            "’s PART\n",
            "laughter NOUN\n",
            "faded VERB\n",
            "into ADP\n",
            "the DET\n",
            "distance NOUN\n",
            ", PUNCT\n",
            "replaced VERB\n",
            "by ADP\n",
            "the DET\n",
            "occasional ADJ\n",
            "bark NOUN\n",
            "of ADP\n",
            "a DET\n",
            "dog NOUN\n",
            "or CCONJ\n",
            "the DET\n",
            "clang NOUN\n",
            "of ADP\n",
            "utensils NOUN\n",
            "from ADP\n",
            "kitchens NOUN\n",
            "preparing VERB\n",
            "dinner NOUN\n",
            ". PUNCT\n",
            "There PRON\n",
            "was VERB\n",
            "a DET\n",
            "sense NOUN\n",
            "of ADP\n",
            "calm NOUN\n",
            ", PUNCT\n",
            "of ADP\n",
            "a DET\n",
            "day NOUN\n",
            "well ADV\n",
            "- PUNCT\n",
            "lived VERB\n",
            "and CCONJ\n",
            "a DET\n",
            "night NOUN\n",
            "waiting VERB\n",
            "with ADP\n",
            "promises NOUN\n",
            "of ADP\n",
            "dreams NOUN\n",
            ", PUNCT\n",
            "stories NOUN\n",
            ", PUNCT\n",
            "and CCONJ\n",
            "stillness NOUN\n",
            ". PUNCT\n"
          ]
        }
      ]
    },
    {
      "cell_type": "code",
      "source": [],
      "metadata": {
        "id": "bma9FaiR5dZT"
      },
      "execution_count": 14,
      "outputs": []
    }
  ]
}