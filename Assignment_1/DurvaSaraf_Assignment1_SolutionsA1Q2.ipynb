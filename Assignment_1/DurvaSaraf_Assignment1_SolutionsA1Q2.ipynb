{
  "nbformat": 4,
  "nbformat_minor": 0,
  "metadata": {
    "colab": {
      "provenance": []
    },
    "kernelspec": {
      "name": "python3",
      "display_name": "Python 3"
    },
    "language_info": {
      "name": "python"
    }
  },
  "cells": [
    {
      "cell_type": "code",
      "execution_count": 4,
      "metadata": {
        "id": "5Zndvywdnr9e"
      },
      "outputs": [],
      "source": [
        "import pandas as pd\n",
        "import numpy as np\n",
        "from sklearn.feature_extraction.text import TfidfVectorizer\n",
        "from sklearn.feature_extraction.text import CountVectorizer\n",
        "texts = [\"It does not do to dwell on dreams and forget to live.\"\n",
        "\n",
        "\"I solemnly swear that I am up to no good.\"\n",
        "\n",
        "\"Yer a wizard, Harry.\"\n",
        "\n",
        "\"Always.\"\n",
        "\n",
        "\"Happiness can be found even in the darkest of times, if one only remembers to turn on the light.\"\n",
        "\n",
        "\"Until the very end.\"\n",
        "\n",
        "\"We’ve all got both light and dark inside us.\"\n",
        "\n",
        "\"Fear of a name increases fear of the thing itself.\"\n",
        "\n",
        "\"Mischief managed.\"\n",
        "\n",
        "\"You're just as sane as I am.\"\n",
        "\n",
        "\"The ones that love us never really leave us.\"\n",
        "\n",
        "\"Words are, in my not-so-humble opinion, our most inexhaustible source of magic.\"\n",
        "\n",
        "\"You have your mother’s eyes.\"\n",
        "\n",
        "\"Dobby is a free elf.\"\n",
        "\n",
        "\"It’s leviOsa, not levioSA!\"\n",
        "\n",
        "\"The boy who lived, come to die.\"\n",
        "\n",
        "\"I am not afraid, I am with you.\"\n",
        "\n",
        "\"Things we lose have a way of coming back to us in the end.\"\n",
        "\n",
        "\"To the well-organized mind, death is but the next great adventure.\"\n",
        "\n",
        "\"The world isn’t split into good people and Death Eaters.\"]"
      ]
    },
    {
      "cell_type": "code",
      "source": [
        "vectorizer = CountVectorizer()\n"
      ],
      "metadata": {
        "id": "DFVhzOmzsAcc"
      },
      "execution_count": 5,
      "outputs": []
    },
    {
      "cell_type": "code",
      "source": [
        "matrix1= vectorizer.fit_transform(texts)"
      ],
      "metadata": {
        "id": "G5N1BvnRsOrW"
      },
      "execution_count": 6,
      "outputs": []
    },
    {
      "cell_type": "code",
      "source": [
        "print(\"matrix shape:\" , matrix1.shape)"
      ],
      "metadata": {
        "colab": {
          "base_uri": "https://localhost:8080/"
        },
        "id": "J4VBn3uXt_xo",
        "outputId": "dc63f4f6-298f-403e-d6ee-9bee9ac510ac"
      },
      "execution_count": 7,
      "outputs": [
        {
          "output_type": "stream",
          "name": "stdout",
          "text": [
            "matrix shape: (1, 112)\n"
          ]
        }
      ]
    },
    {
      "cell_type": "code",
      "source": [
        "print(vectorizer.get_feature_names_out()[:10])"
      ],
      "metadata": {
        "colab": {
          "base_uri": "https://localhost:8080/"
        },
        "id": "vS21OKfGuLr-",
        "outputId": "5bfa17b0-a276-4db3-b0fd-f74ff97f81ca"
      },
      "execution_count": 8,
      "outputs": [
        {
          "output_type": "stream",
          "name": "stdout",
          "text": [
            "['adventure' 'afraid' 'all' 'always' 'am' 'and' 'are' 'as' 'back' 'be']\n"
          ]
        }
      ]
    },
    {
      "cell_type": "code",
      "source": [
        "v =  TfidfVectorizer()\n",
        "output = v.fit_transform(texts)\n",
        "print(v.vocabulary_)\n"
      ],
      "metadata": {
        "colab": {
          "base_uri": "https://localhost:8080/"
        },
        "id": "OFnmiHM0Cgrk",
        "outputId": "72ea6263-acc8-4add-838b-e07bcc2c0aea"
      },
      "execution_count": 9,
      "outputs": [
        {
          "output_type": "stream",
          "name": "stdout",
          "text": [
            "{'it': 49, 'does': 22, 'not': 70, 'do': 20, 'to': 94, 'dwell': 24, 'on': 72, 'dreams': 23, 'and': 5, 'forget': 31, 'live': 55, 'solemnly': 85, 'swear': 88, 'that': 89, 'am': 4, 'up': 97, 'no': 69, 'good': 34, 'yer': 109, 'wizard': 106, 'harry': 38, 'always': 3, 'happiness': 37, 'can': 13, 'be': 9, 'found': 32, 'even': 28, 'in': 42, 'the': 90, 'darkest': 17, 'of': 71, 'times': 93, 'if': 41, 'one': 73, 'only': 75, 'remembers': 82, 'turn': 95, 'light': 54, 'until': 96, 'very': 100, 'end': 27, 'we': 102, 've': 99, 'all': 2, 'got': 35, 'both': 10, 'dark': 16, 'inside': 45, 'us': 98, 'fear': 30, 'name': 66, 'increases': 43, 'thing': 91, 'itself': 50, 'mischief': 62, 'managed': 60, 'you': 110, 're': 80, 'just': 51, 'as': 7, 'sane': 83, 'ones': 74, 'love': 58, 'never': 67, 'really': 81, 'leave': 52, 'words': 107, 'are': 6, 'my': 65, 'so': 84, 'humble': 40, 'opinion': 76, 'our': 78, 'most': 63, 'inexhaustible': 44, 'source': 86, 'magic': 59, 'have': 39, 'your': 111, 'mother': 64, 'eyes': 29, 'dobby': 21, 'is': 47, 'free': 33, 'elf': 26, 'leviosa': 53, 'boy': 11, 'who': 104, 'lived': 56, 'come': 14, 'die': 19, 'afraid': 1, 'with': 105, 'things': 92, 'lose': 57, 'way': 101, 'coming': 15, 'back': 8, 'well': 103, 'organized': 77, 'mind': 61, 'death': 18, 'but': 12, 'next': 68, 'great': 36, 'adventure': 0, 'world': 108, 'isn': 48, 'split': 87, 'into': 46, 'people': 79, 'eaters': 25}\n"
          ]
        }
      ]
    },
    {
      "cell_type": "code",
      "source": [
        " TFfeatures = v.get_feature_names_out()\n",
        " print(TFfeatures)\n",
        " smoothed_tf = output.toarray()\n",
        " print(smoothed_tf)"
      ],
      "metadata": {
        "colab": {
          "base_uri": "https://localhost:8080/"
        },
        "id": "Jjyx6Z6LCyJq",
        "outputId": "2116098b-3873-4e9e-dcc2-39f21b191e53"
      },
      "execution_count": 15,
      "outputs": [
        {
          "output_type": "stream",
          "name": "stdout",
          "text": [
            "['adventure' 'afraid' 'all' 'always' 'am' 'and' 'are' 'as' 'back' 'be'\n",
            " 'both' 'boy' 'but' 'can' 'come' 'coming' 'dark' 'darkest' 'death' 'die'\n",
            " 'do' 'dobby' 'does' 'dreams' 'dwell' 'eaters' 'elf' 'end' 'even' 'eyes'\n",
            " 'fear' 'forget' 'found' 'free' 'good' 'got' 'great' 'happiness' 'harry'\n",
            " 'have' 'humble' 'if' 'in' 'increases' 'inexhaustible' 'inside' 'into'\n",
            " 'is' 'isn' 'it' 'itself' 'just' 'leave' 'leviosa' 'light' 'live' 'lived'\n",
            " 'lose' 'love' 'magic' 'managed' 'mind' 'mischief' 'most' 'mother' 'my'\n",
            " 'name' 'never' 'next' 'no' 'not' 'of' 'on' 'one' 'ones' 'only' 'opinion'\n",
            " 'organized' 'our' 'people' 're' 'really' 'remembers' 'sane' 'so'\n",
            " 'solemnly' 'source' 'split' 'swear' 'that' 'the' 'thing' 'things' 'times'\n",
            " 'to' 'turn' 'until' 'up' 'us' 've' 'very' 'way' 'we' 'well' 'who' 'with'\n",
            " 'wizard' 'words' 'world' 'yer' 'you' 'your']\n",
            "[[0.05057217 0.05057217 0.05057217 0.05057217 0.20228869 0.15171652\n",
            "  0.05057217 0.10114435 0.05057217 0.05057217 0.05057217 0.05057217\n",
            "  0.05057217 0.05057217 0.05057217 0.05057217 0.05057217 0.05057217\n",
            "  0.10114435 0.05057217 0.05057217 0.05057217 0.05057217 0.05057217\n",
            "  0.05057217 0.05057217 0.05057217 0.10114435 0.05057217 0.05057217\n",
            "  0.10114435 0.05057217 0.05057217 0.05057217 0.10114435 0.05057217\n",
            "  0.05057217 0.05057217 0.05057217 0.10114435 0.05057217 0.05057217\n",
            "  0.15171652 0.05057217 0.05057217 0.05057217 0.05057217 0.10114435\n",
            "  0.05057217 0.10114435 0.05057217 0.05057217 0.05057217 0.10114435\n",
            "  0.10114435 0.05057217 0.05057217 0.05057217 0.05057217 0.05057217\n",
            "  0.05057217 0.05057217 0.05057217 0.05057217 0.05057217 0.05057217\n",
            "  0.05057217 0.05057217 0.05057217 0.05057217 0.20228869 0.25286087\n",
            "  0.10114435 0.05057217 0.05057217 0.05057217 0.05057217 0.05057217\n",
            "  0.05057217 0.05057217 0.05057217 0.05057217 0.05057217 0.05057217\n",
            "  0.05057217 0.05057217 0.05057217 0.05057217 0.05057217 0.10114435\n",
            "  0.50572174 0.05057217 0.05057217 0.05057217 0.35400522 0.05057217\n",
            "  0.05057217 0.05057217 0.20228869 0.05057217 0.05057217 0.05057217\n",
            "  0.10114435 0.05057217 0.05057217 0.05057217 0.05057217 0.05057217\n",
            "  0.05057217 0.05057217 0.15171652 0.05057217]]\n"
          ]
        }
      ]
    },
    {
      "cell_type": "code",
      "source": [
        "for word in TFfeatures:\n",
        "    index= v.vocabulary_.get(word)\n",
        "    print(f\"{word} { v.idf_[index]}\")"
      ],
      "metadata": {
        "colab": {
          "base_uri": "https://localhost:8080/"
        },
        "id": "VPePEDkdEeHP",
        "outputId": "8b81aa80-0feb-4b92-c932-437921b1723c"
      },
      "execution_count": 16,
      "outputs": [
        {
          "output_type": "stream",
          "name": "stdout",
          "text": [
            "adventure 1.0\n",
            "afraid 1.0\n",
            "all 1.0\n",
            "always 1.0\n",
            "am 1.0\n",
            "and 1.0\n",
            "are 1.0\n",
            "as 1.0\n",
            "back 1.0\n",
            "be 1.0\n",
            "both 1.0\n",
            "boy 1.0\n",
            "but 1.0\n",
            "can 1.0\n",
            "come 1.0\n",
            "coming 1.0\n",
            "dark 1.0\n",
            "darkest 1.0\n",
            "death 1.0\n",
            "die 1.0\n",
            "do 1.0\n",
            "dobby 1.0\n",
            "does 1.0\n",
            "dreams 1.0\n",
            "dwell 1.0\n",
            "eaters 1.0\n",
            "elf 1.0\n",
            "end 1.0\n",
            "even 1.0\n",
            "eyes 1.0\n",
            "fear 1.0\n",
            "forget 1.0\n",
            "found 1.0\n",
            "free 1.0\n",
            "good 1.0\n",
            "got 1.0\n",
            "great 1.0\n",
            "happiness 1.0\n",
            "harry 1.0\n",
            "have 1.0\n",
            "humble 1.0\n",
            "if 1.0\n",
            "in 1.0\n",
            "increases 1.0\n",
            "inexhaustible 1.0\n",
            "inside 1.0\n",
            "into 1.0\n",
            "is 1.0\n",
            "isn 1.0\n",
            "it 1.0\n",
            "itself 1.0\n",
            "just 1.0\n",
            "leave 1.0\n",
            "leviosa 1.0\n",
            "light 1.0\n",
            "live 1.0\n",
            "lived 1.0\n",
            "lose 1.0\n",
            "love 1.0\n",
            "magic 1.0\n",
            "managed 1.0\n",
            "mind 1.0\n",
            "mischief 1.0\n",
            "most 1.0\n",
            "mother 1.0\n",
            "my 1.0\n",
            "name 1.0\n",
            "never 1.0\n",
            "next 1.0\n",
            "no 1.0\n",
            "not 1.0\n",
            "of 1.0\n",
            "on 1.0\n",
            "one 1.0\n",
            "ones 1.0\n",
            "only 1.0\n",
            "opinion 1.0\n",
            "organized 1.0\n",
            "our 1.0\n",
            "people 1.0\n",
            "re 1.0\n",
            "really 1.0\n",
            "remembers 1.0\n",
            "sane 1.0\n",
            "so 1.0\n",
            "solemnly 1.0\n",
            "source 1.0\n",
            "split 1.0\n",
            "swear 1.0\n",
            "that 1.0\n",
            "the 1.0\n",
            "thing 1.0\n",
            "things 1.0\n",
            "times 1.0\n",
            "to 1.0\n",
            "turn 1.0\n",
            "until 1.0\n",
            "up 1.0\n",
            "us 1.0\n",
            "ve 1.0\n",
            "very 1.0\n",
            "way 1.0\n",
            "we 1.0\n",
            "well 1.0\n",
            "who 1.0\n",
            "with 1.0\n",
            "wizard 1.0\n",
            "words 1.0\n",
            "world 1.0\n",
            "yer 1.0\n",
            "you 1.0\n",
            "your 1.0\n"
          ]
        }
      ]
    },
    {
      "cell_type": "code",
      "source": [
        "print(smoothed_tf.shape)"
      ],
      "metadata": {
        "colab": {
          "base_uri": "https://localhost:8080/"
        },
        "id": "306c2nfMFYz0",
        "outputId": "a755f3ed-b00f-4c56-ca53-27f1cf38b571"
      },
      "execution_count": 17,
      "outputs": [
        {
          "output_type": "stream",
          "name": "stdout",
          "text": [
            "(1, 112)\n"
          ]
        }
      ]
    },
    {
      "cell_type": "code",
      "source": [],
      "metadata": {
        "id": "W7Qd4_5cHSA_"
      },
      "execution_count": null,
      "outputs": []
    }
  ]
}